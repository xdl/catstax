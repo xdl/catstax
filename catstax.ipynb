{
 "cells": [
  {
   "cell_type": "markdown",
   "metadata": {},
   "source": [
    "# Imports"
   ]
  },
  {
   "cell_type": "code",
   "execution_count": 1,
   "metadata": {
    "ExecuteTime": {
     "end_time": "2019-07-03T14:55:13.938428Z",
     "start_time": "2019-07-03T14:55:13.812339Z"
    }
   },
   "outputs": [],
   "source": [
    "from enum import Enum\n",
    "import numpy as np\n",
    "import pdb\n",
    "from typing import Tuple, List\n",
    "from itertools import product"
   ]
  },
  {
   "cell_type": "markdown",
   "metadata": {},
   "source": [
    "# Cats"
   ]
  },
  {
   "cell_type": "code",
   "execution_count": null,
   "metadata": {
    "ExecuteTime": {
     "end_time": "2019-07-03T14:55:14.269424Z",
     "start_time": "2019-07-03T14:55:14.261944Z"
    }
   },
   "outputs": [],
   "source": [
    "snowball = [\n",
    "    [1, 0, 0],\n",
    "    [1, 1, 1]]\n",
    "\n",
    "jade_goody = [\n",
    "    [0, 1, 0],\n",
    "    [0, 1, 1],\n",
    "    [1, 1, 1]\n",
    "]\n",
    "\n",
    "foxy_lady = [\n",
    "    [1, 1],\n",
    "    [1, 1],\n",
    "    [1, 1]\n",
    "]\n",
    "\n",
    "black_panther = [\n",
    "    [1, 0, 1],\n",
    "    [1, 1, 1],\n",
    "    [1, 1, 1]\n",
    "]\n",
    "\n",
    "turquoise_shelly = [\n",
    "    [1, 0],\n",
    "    [1, 1]\n",
    "]\n",
    "\n",
    "lucy_in_the_sky_with_diamonds = [\n",
    "    [1],\n",
    "    [1]\n",
    "]"
   ]
  },
  {
   "cell_type": "code",
   "execution_count": 2,
   "metadata": {
    "ExecuteTime": {
     "end_time": "2019-07-03T14:55:14.269424Z",
     "start_time": "2019-07-03T14:55:14.261944Z"
    }
   },
   "outputs": [],
   "source": [
    "grid_1 = [\n",
    "    [1, 1, 1, 1, 1],\n",
    "    [1, 1, 1, 1, 1],\n",
    "    [1, 1, 1, 1, 1],\n",
    "    [1, 1, 1, 1, 1],\n",
    "    [1, 1, 1, 1, 1]\n",
    "]"
   ]
  },
  {
   "cell_type": "markdown",
   "metadata": {},
   "source": [
    "# Transforms"
   ]
  },
  {
   "cell_type": "code",
   "execution_count": 3,
   "metadata": {
    "ExecuteTime": {
     "end_time": "2019-07-03T14:55:14.850645Z",
     "start_time": "2019-07-03T14:55:14.842129Z"
    }
   },
   "outputs": [],
   "source": [
    "grid = [\n",
    "    [1, 1, 1],\n",
    "    [1, 1, 1],\n",
    "    [1, 1, 1]\n",
    "]\n",
    "\n",
    "class Orientation(Enum):\n",
    "    IDENTITY = 1\n",
    "    R_90 = 2\n",
    "    R_180 = 3\n",
    "    R_270 = 4\n",
    "    REF_IDENTITY = 5\n",
    "    REF_R_90 = 6\n",
    "    REF_R_180 = 7\n",
    "    REF_R_270 = 8\n",
    "\n",
    "def transform_coordinates(coordinates, orientation):\n",
    "    if orientation == Orientation.IDENTITY:\n",
    "        return np.array(coordinates)\n",
    "    elif orientation == Orientation.R_90:\n",
    "        return np.rot90(coordinates)\n",
    "    elif orientation == Orientation.R_180:\n",
    "        return np.rot90(coordinates, 2)\n",
    "    elif orientation == Orientation.R_270:\n",
    "        return np.rot90(coordinates, 3)\n",
    "    elif orientation == Orientation.REF_IDENTITY:\n",
    "        return np.fliplr(coordinates)\n",
    "    elif orientation == Orientation.REF_R_90:\n",
    "        return np.rot90(np.fliplr(coordinates))\n",
    "    elif orientation == Orientation.REF_R_180:\n",
    "        return np.rot90(np.fliplr(coordinates), 2)\n",
    "    elif orientation == Orientation.REF_R_270:\n",
    "        return np.rot90(np.fliplr(coordinates), 3)"
   ]
  },
  {
   "cell_type": "code",
   "execution_count": 4,
   "metadata": {
    "ExecuteTime": {
     "end_time": "2019-07-03T14:55:15.143178Z",
     "start_time": "2019-07-03T14:55:15.133178Z"
    },
    "scrolled": true
   },
   "outputs": [
    {
     "data": {
      "text/plain": [
       "array([[0, 1],\n",
       "       [0, 1],\n",
       "       [1, 1]])"
      ]
     },
     "execution_count": 4,
     "metadata": {},
     "output_type": "execute_result"
    }
   ],
   "source": [
    "# transform_coordinates(snowball_coord, Orientation.IDENTITY)\n",
    "transform_coordinates(snowball, Orientation.R_90)"
   ]
  },
  {
   "cell_type": "code",
   "execution_count": 5,
   "metadata": {
    "ExecuteTime": {
     "end_time": "2019-07-03T14:55:15.493545Z",
     "start_time": "2019-07-03T14:55:15.489223Z"
    }
   },
   "outputs": [
    {
     "data": {
      "text/plain": [
       "array([[1, 1],\n",
       "       [1, 0],\n",
       "       [1, 0]])"
      ]
     },
     "execution_count": 5,
     "metadata": {},
     "output_type": "execute_result"
    }
   ],
   "source": [
    "transform_coordinates(snowball, Orientation.R_270)"
   ]
  },
  {
   "cell_type": "code",
   "execution_count": 6,
   "metadata": {
    "ExecuteTime": {
     "end_time": "2019-07-03T14:55:15.686296Z",
     "start_time": "2019-07-03T14:55:15.681989Z"
    }
   },
   "outputs": [
    {
     "data": {
      "text/plain": [
       "array([[0, 0, 1],\n",
       "       [1, 1, 1]])"
      ]
     },
     "execution_count": 6,
     "metadata": {},
     "output_type": "execute_result"
    }
   ],
   "source": [
    "transform_coordinates(snowball, Orientation.REF_IDENTITY)"
   ]
  },
  {
   "cell_type": "code",
   "execution_count": 7,
   "metadata": {
    "ExecuteTime": {
     "end_time": "2019-07-03T14:55:15.870630Z",
     "start_time": "2019-07-03T14:55:15.866285Z"
    }
   },
   "outputs": [
    {
     "data": {
      "text/plain": [
       "array([[1, 1],\n",
       "       [0, 1],\n",
       "       [0, 1]])"
      ]
     },
     "execution_count": 7,
     "metadata": {},
     "output_type": "execute_result"
    }
   ],
   "source": [
    "transform_coordinates(snowball, Orientation.REF_R_90)"
   ]
  },
  {
   "cell_type": "code",
   "execution_count": 8,
   "metadata": {
    "ExecuteTime": {
     "end_time": "2019-07-03T14:55:16.315241Z",
     "start_time": "2019-07-03T14:55:16.311248Z"
    }
   },
   "outputs": [
    {
     "data": {
      "text/plain": [
       "array([[1, 0],\n",
       "       [1, 0],\n",
       "       [1, 1]])"
      ]
     },
     "execution_count": 8,
     "metadata": {},
     "output_type": "execute_result"
    }
   ],
   "source": [
    "transform_coordinates(snowball, Orientation.REF_R_270)"
   ]
  },
  {
   "cell_type": "markdown",
   "metadata": {},
   "source": [
    "# Sliding Window"
   ]
  },
  {
   "cell_type": "code",
   "execution_count": 9,
   "metadata": {
    "ExecuteTime": {
     "end_time": "2019-07-03T14:55:16.714394Z",
     "start_time": "2019-07-03T14:55:16.709705Z"
    }
   },
   "outputs": [],
   "source": [
    "def sliding_window(_grid, cat_coord):\n",
    "    grid = np.array(_grid)\n",
    "    grid_width = grid.shape[1]\n",
    "    grid_height = grid.shape[0]\n",
    "    cat_width = cat_coord.shape[1]\n",
    "    cat_height = cat_coord.shape[0]\n",
    "    return [(i, j) for j in range(grid_width - cat_width + 1) for i in range(grid_height - cat_height + 1)]\n",
    "#     for i in range(grid_height - cat_height + 1):\n",
    "#         for j in range(grid_width - cat_width + 1):\n",
    "#             yield (i, j)"
   ]
  },
  {
   "cell_type": "code",
   "execution_count": 10,
   "metadata": {
    "ExecuteTime": {
     "end_time": "2019-07-03T14:55:16.958677Z",
     "start_time": "2019-07-03T14:55:16.954611Z"
    }
   },
   "outputs": [
    {
     "data": {
      "text/plain": [
       "[(0, 0), (1, 0)]"
      ]
     },
     "execution_count": 10,
     "metadata": {},
     "output_type": "execute_result"
    }
   ],
   "source": [
    "sliding_window(grid, transform_coordinates(snowball, Orientation.IDENTITY))"
   ]
  },
  {
   "cell_type": "markdown",
   "metadata": {},
   "source": [
    "# Visualisation"
   ]
  },
  {
   "cell_type": "code",
   "execution_count": 11,
   "metadata": {
    "ExecuteTime": {
     "end_time": "2019-07-03T14:55:17.830499Z",
     "start_time": "2019-07-03T14:55:17.821800Z"
    }
   },
   "outputs": [
    {
     "name": "stdout",
     "output_type": "stream",
     "text": [
      "(t)urquoise shelly\n",
      "\n",
      "\n",
      "[['1' 't' '1' '1' '1']\n",
      " ['1' 't' 't' '1' '1']\n",
      " ['1' '1' '1' '1' '1']\n",
      " ['1' '1' '1' '1' '1']\n",
      " ['1' '1' '1' '1' '1']]\n"
     ]
    }
   ],
   "source": [
    "def cats_fit(_grid, cats: List[Tuple[str, List[List[int]], Tuple[int, int]]]) -> None:\n",
    "    rendered_grid = np.array(_grid, str)\n",
    "    for name, coord, xy in cats:\n",
    "        abbrev = name[0]\n",
    "        for i, row in enumerate(coord):\n",
    "            for j, column in enumerate(row):\n",
    "                if column == 1:\n",
    "                    rendered_grid[i + xy[0]][j + xy[1]] = abbrev\n",
    "        print(\"({}){}\".format(name[0], name[1:]))\n",
    "    print('\\n')\n",
    "    print(rendered_grid)\n",
    "\n",
    "\n",
    "cats = [\n",
    "    ('turquoise shelly', turquoise_shelly, (0, 1))\n",
    "]\n",
    "\n",
    "cats_fit(grid_1, cats)"
   ]
  },
  {
   "cell_type": "markdown",
   "metadata": {},
   "source": [
    "# Verifi-cat-ion"
   ]
  },
  {
   "cell_type": "code",
   "execution_count": 12,
   "metadata": {
    "ExecuteTime": {
     "end_time": "2019-07-03T14:55:19.295641Z",
     "start_time": "2019-07-03T14:55:19.288367Z"
    }
   },
   "outputs": [],
   "source": [
    "\n",
    "def verify_grid_cats(_grid, cats: List[Tuple[List[List[int]], Tuple[int, int]]]) -> bool:\n",
    "    grid = np.array(_grid)\n",
    "    for coord, xy in cats:\n",
    "        for i, row in enumerate(coord):\n",
    "            for j, column in enumerate(row):\n",
    "                if column == 1 and grid[i + xy[0]][j + xy[1]] == 0:\n",
    "                    return False\n",
    "                elif column == 1 and grid[i + xy[0]][j + xy[1]] > 1:\n",
    "                    return False\n",
    "                # TODO: need to check for non-occupiable grid spaces\n",
    "                elif column == 1 and grid[i + xy[0]][j + xy[1]] == 1:\n",
    "                    grid[i + xy[0]][j + xy[1]] += 1\n",
    "    return not (1 in grid)\n",
    "\n",
    "cats = [\n",
    "    (foxy_lady, (0, 0))\n",
    "]"
   ]
  },
  {
   "cell_type": "code",
   "execution_count": 13,
   "metadata": {
    "ExecuteTime": {
     "end_time": "2019-07-03T14:55:19.626041Z",
     "start_time": "2019-07-03T14:55:19.621532Z"
    }
   },
   "outputs": [
    {
     "data": {
      "text/plain": [
       "(True, False)"
      ]
     },
     "execution_count": 13,
     "metadata": {},
     "output_type": "execute_result"
    }
   ],
   "source": [
    "verify_grid_cats(foxy_lady, cats), verify_grid_cats(foxy_lady, [(lucy_in_the_sky_with_diamonds, (0, 0))])"
   ]
  },
  {
   "cell_type": "markdown",
   "metadata": {},
   "source": [
    "# Brute Force Solve"
   ]
  },
  {
   "cell_type": "code",
   "execution_count": 14,
   "metadata": {
    "ExecuteTime": {
     "end_time": "2019-07-03T14:55:21.142561Z",
     "start_time": "2019-07-03T14:55:21.134843Z"
    }
   },
   "outputs": [],
   "source": [
    "def solve(grid, cats: List[Tuple[str, List[List[int]]]]):\n",
    "    \n",
    "    cat_transforms = [[transform_coordinates(coord, t) for t in Orientation] for _, coord in cats]\n",
    "    names = [name for name, _ in cats]\n",
    "    cats_t_xys = [[[(coord, xy) \n",
    "                    for xy in sliding_window(grid, coord)]\n",
    "                   for coord in coords]\n",
    "                  for coords in cat_transforms]\n",
    "    \n",
    "    # Combinations of cats in their different orientations\n",
    "    cats_transforms_product = product(*cats_t_xys)\n",
    "    for ctp in cats_transforms_product:\n",
    "        \n",
    "        # Combinations of cat orientations and their positions\n",
    "        for coord_xys in product(*ctp):\n",
    "            if verify_grid_cats(grid, coord_xys):\n",
    "                name_coord_xys = [(name, coord_xy[0], coord_xy[1]) for name, coord_xy in zip(names, coord_xys)]\n",
    "                cats_fit(grid, name_coord_xys)\n",
    "                return\n",
    "    \n",
    "    print('no combinations found!')\n",
    "\n",
    "cats = [\n",
    "    ('foxy lady', foxy_lady),\n",
    "    ('black panther', black_panther),\n",
    "    ('jade goody', jade_goody),\n",
    "    ('lucy', lucy_in_the_sky_with_diamonds),\n",
    "    ('turqoise shelly', turquoise_shelly),\n",
    "]"
   ]
  },
  {
   "cell_type": "code",
   "execution_count": 15,
   "metadata": {
    "ExecuteTime": {
     "end_time": "2019-07-03T15:04:54.207907Z",
     "start_time": "2019-07-03T14:55:22.434005Z"
    }
   },
   "outputs": [
    {
     "name": "stdout",
     "output_type": "stream",
     "text": [
      "(f)oxy lady\n",
      "(b)lack panther\n",
      "(j)ade goody\n",
      "(l)ucy\n",
      "(t)urqoise shelly\n",
      "\n",
      "\n",
      "[['t' 't' 'j' 'j' 'l']\n",
      " ['t' 'j' 'j' 'j' 'l']\n",
      " ['f' 'f' 'b' 'j' 'b']\n",
      " ['f' 'f' 'b' 'b' 'b']\n",
      " ['f' 'f' 'b' 'b' 'b']]\n"
     ]
    }
   ],
   "source": [
    "solve(grid_1, cats)"
   ]
  },
  {
   "cell_type": "code",
   "execution_count": null,
   "metadata": {},
   "outputs": [],
   "source": []
  }
 ],
 "metadata": {
  "kernelspec": {
   "display_name": "Python 3",
   "language": "python",
   "name": "python3"
  },
  "language_info": {
   "codemirror_mode": {
    "name": "ipython",
    "version": 3
   },
   "file_extension": ".py",
   "mimetype": "text/x-python",
   "name": "python",
   "nbconvert_exporter": "python",
   "pygments_lexer": "ipython3",
   "version": "3.6.6"
  },
  "toc": {
   "base_numbering": 1,
   "nav_menu": {},
   "number_sections": true,
   "sideBar": true,
   "skip_h1_title": false,
   "title_cell": "Table of Contents",
   "title_sidebar": "Contents",
   "toc_cell": false,
   "toc_position": {},
   "toc_section_display": true,
   "toc_window_display": true
  }
 },
 "nbformat": 4,
 "nbformat_minor": 2
}
